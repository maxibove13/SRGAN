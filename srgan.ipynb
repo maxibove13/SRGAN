{
 "cells": [
  {
   "cell_type": "markdown",
   "metadata": {},
   "source": [
    "# Super Resolution GAN (SRGAN) implementation"
   ]
  },
  {
   "cell_type": "markdown",
   "metadata": {},
   "source": [
    "### Mount drive if in colab"
   ]
  },
  {
   "cell_type": "code",
   "execution_count": null,
   "metadata": {},
   "outputs": [],
   "source": [
    "from google.colab import drive\n",
    "drive.mount('/content/drive')\n",
    "\n",
    "# Navigate to repository\n",
    "%cd /content/drive/MyDrive/Github/SRGAN\n",
    "\n",
    "!pip install albumentations==0.4.6"
   ]
  },
  {
   "cell_type": "markdown",
   "metadata": {},
   "source": [
    "### Import needed modules"
   ]
  },
  {
   "cell_type": "code",
   "execution_count": null,
   "metadata": {},
   "outputs": [],
   "source": [
    "import config\n",
    "import torch\n",
    "from torch import nn\n",
    "# Optimization algorithms\n",
    "import torch.optim as optim\n",
    "# Dataset manager\n",
    "from torch.utils.data import DataLoader\n",
    "\n",
    "from torchvision.models import vgg19"
   ]
  },
  {
   "cell_type": "markdown",
   "metadata": {},
   "source": [
    "## 0. Define and prepare data"
   ]
  },
  {
   "cell_type": "code",
   "execution_count": null,
   "metadata": {},
   "outputs": [],
   "source": [
    "from dataset import MyImageFolder\n",
    "\n",
    "dataset = MyImageFolder(root_dir=\"new_data\")\n",
    "print(f\"{len(dataset)} samples in dir {dataset.root_dir}/{dataset.class_names[0]}\")"
   ]
  },
  {
   "cell_type": "markdown",
   "metadata": {},
   "source": [
    "## 1. Create model"
   ]
  },
  {
   "cell_type": "markdown",
   "metadata": {},
   "source": [
    "### Building blocks (Convolutional, Upsample, Residual)"
   ]
  },
  {
   "cell_type": "code",
   "execution_count": null,
   "metadata": {},
   "outputs": [],
   "source": [
    "class ConvBlock(nn.Module):\n",
    "    # Conv -> BN (Batch Norm) -> Leaky/PReLu\n",
    "    def __init__(\n",
    "        self,\n",
    "        in_channels,\n",
    "        out_channels,\n",
    "        discriminator=False,\n",
    "        use_act=True,\n",
    "        use_bn=True,\n",
    "        **kwargs,\n",
    "    ):\n",
    "        super().__init__()\n",
    "        self.use_act = use_act\n",
    "        self.cnn = nn.Conv2d(in_channels, out_channels, **kwargs, bias=not use_bn)\n",
    "        self.bn = nn.BatchNorm2d(out_channels) if use_bn else nn.Identity()\n",
    "        self.act = (\n",
    "            nn.LeakyReLU(0.2, inplace=True) if discriminator else nn.PReLU(num_parameters=out_channels)\n",
    "        )\n",
    "    \n",
    "    def forward(self, x):\n",
    "        return self.act(self.bn(self.cnn(x))) if self.use_act else self.bn(self.cnn(x))\n",
    "\n",
    "class UpsampleBlock(nn.Module):\n",
    "    def __init__(self, in_c, scale_factor):\n",
    "        super().__init__()\n",
    "        self.conv = nn.Conv2d(in_c, in_c * scale_factor ** 2, 3, 1, 1)\n",
    "        self.ps = nn.PixelShuffle(scale_factor) # in_c *4, H, W, --> in_c, H*2, W*2\n",
    "        self.act = nn.PReLU(num_parameters=in_c)\n",
    "\n",
    "    def forward(self, x):\n",
    "        return self.act(self.ps(self.conv(x)))\n",
    "\n",
    "class ResidualBlock(nn.Module):\n",
    "    def __init__(self, in_channels):\n",
    "        super().__init__()\n",
    "        self.block1 = ConvBlock(\n",
    "            in_channels,\n",
    "            in_channels,\n",
    "            kernel_size = 3,\n",
    "            stride = 1,\n",
    "            padding = 1\n",
    "        )\n",
    "        self.block2 = ConvBlock(\n",
    "            in_channels,\n",
    "            in_channels,\n",
    "            kernel_size = 3,\n",
    "            stride = 1,\n",
    "            padding = 1,\n",
    "            use_act = False\n",
    "        )\n",
    "\n",
    "    def forward(self, x):\n",
    "        out = self.block1(x)\n",
    "        out = self.block2(out)\n",
    "        return out + x"
   ]
  },
  {
   "cell_type": "markdown",
   "metadata": {},
   "source": [
    "### Generator"
   ]
  },
  {
   "cell_type": "code",
   "execution_count": null,
   "metadata": {},
   "outputs": [],
   "source": [
    "class Generator(nn.Module):\n",
    "    def __init__(self, in_channels=3, num_channels=64, num_blocks=16):\n",
    "        super().__init__()\n",
    "        self.initial = ConvBlock(in_channels, num_channels, kernel_size=9, stride=1, padding=4, use_bn=False)\n",
    "        self.residuals = nn.Sequential(*[ResidualBlock(num_channels) for _ in range(num_blocks)])\n",
    "        self.convblock = ConvBlock(num_channels, num_channels, kernel_size=3, stride=1, padding=1, use_act=False)\n",
    "        self.upsamples = nn.Sequential(UpsampleBlock(num_channels, 2), UpsampleBlock(num_channels, 2))\n",
    "        self.final = nn.Conv2d(num_channels, in_channels, kernel_size=9, stride=1, padding=4)\n",
    "\n",
    "    def forward(self, x):\n",
    "        initial = self.initial(x)\n",
    "        x = self.residuals(initial)\n",
    "        x = self.convblock(x) + initial\n",
    "        x = self.upsamples(x)\n",
    "        return torch.tanh(self.final(x))"
   ]
  },
  {
   "cell_type": "markdown",
   "metadata": {},
   "source": [
    "### Discriminator"
   ]
  },
  {
   "cell_type": "code",
   "execution_count": null,
   "metadata": {},
   "outputs": [],
   "source": [
    "class Discriminator(nn.Module):\n",
    "    def __init__(self, in_channels=3, features=[64, 64, 128, 128, 256, 256, 512, 512]):\n",
    "        super().__init__()\n",
    "        blocks = []\n",
    "        for idx, feature in enumerate(features):\n",
    "            blocks.append(\n",
    "                ConvBlock(\n",
    "                    in_channels,\n",
    "                    feature,\n",
    "                    kernel_size = 3,\n",
    "                    stride = 1 + idx % 2,\n",
    "                    padding = 1,\n",
    "                    discriminator = True,\n",
    "                    use_act = True,\n",
    "                    use_bn = False if idx == 0 else True\n",
    "                )\n",
    "            )\n",
    "            in_channels = feature\n",
    "\n",
    "        self.blocks = nn.Sequential(*blocks)\n",
    "        self.classifier = nn.Sequential(\n",
    "            nn.AdaptiveAvgPool2d((6,6)),\n",
    "            nn.Flatten(),\n",
    "            nn.Linear(512*6*6, 1024),\n",
    "            nn.LeakyReLU(0.2, inplace=True),\n",
    "            nn.Linear(1024, 1)\n",
    "        )\n",
    "\n",
    "    def forward(self, x):\n",
    "        x = self.blocks(x)\n",
    "        return self.classifier(x)"
   ]
  },
  {
   "cell_type": "code",
   "execution_count": null,
   "metadata": {},
   "outputs": [],
   "source": [
    "def test():\n",
    "    low_resolution = 24\n",
    "    with torch.cuda.amp.autocast():\n",
    "        x = torch.randn((5, 3, low_resolution, low_resolution))\n",
    "        gen = Generator()\n",
    "        gen_out = gen(x)\n",
    "        disc = Discriminator()\n",
    "        disc_out = disc(gen_out)\n",
    "\n",
    "        print(gen_out.shape)\n",
    "        print(disc_out.shape)\n",
    "\n",
    "test()"
   ]
  },
  {
   "cell_type": "markdown",
   "metadata": {},
   "source": [
    "### Initialize Generator and Discriminator"
   ]
  },
  {
   "cell_type": "code",
   "execution_count": null,
   "metadata": {},
   "outputs": [],
   "source": [
    "gen = Generator(in_channels=3).to(config.DEVICE)\n",
    "disc = Discriminator(in_channels=3).to(config.DEVICE)"
   ]
  },
  {
   "cell_type": "markdown",
   "metadata": {},
   "source": [
    "## 2. Loss and optimizer"
   ]
  },
  {
   "cell_type": "markdown",
   "metadata": {},
   "source": [
    "### Loss"
   ]
  },
  {
   "cell_type": "code",
   "execution_count": null,
   "metadata": {},
   "outputs": [],
   "source": [
    "class VGGLoss(nn.Module):\n",
    "    def __init__(self):\n",
    "        super().__init__()\n",
    "        self.vgg = vgg19(pretrained=True).features[:36].eval().to(config.DEVICE)\n",
    "        self.loss = nn.MSELoss()\n",
    "\n",
    "        for param in self.vgg.parameters():\n",
    "            param.requires_grad = False\n",
    "\n",
    "    def forward(self, input, target):\n",
    "        vgg_input_features = self.vgg(input)\n",
    "        vgg_target_features = self.vgg(input)\n",
    "        return self.loss(vgg_input_features, vgg_target_features)\n",
    "\n",
    "bce = nn.BCEWithLogitsLoss()\n",
    "vgg_loss_fun = VGGLoss()"
   ]
  },
  {
   "cell_type": "markdown",
   "metadata": {},
   "source": [
    "### Optimizers"
   ]
  },
  {
   "cell_type": "code",
   "execution_count": null,
   "metadata": {},
   "outputs": [],
   "source": [
    "opt_gen = optim.Adam(gen.parameters(), lr=config.LEARNING_RATE, betas=(0.9, 0.999))\n",
    "opt_disc = optim.Adam(disc.parameters(), lr=config.LEARNING_RATE, betas=(0.9, 0.999))"
   ]
  },
  {
   "cell_type": "markdown",
   "metadata": {},
   "source": [
    "## 3. Training"
   ]
  },
  {
   "cell_type": "markdown",
   "metadata": {},
   "source": [
    "### Train discriminator and generator functions"
   ]
  },
  {
   "cell_type": "code",
   "execution_count": null,
   "metadata": {},
   "outputs": [],
   "source": [
    "### Train Discriminator: max log(D(x)) + log(1 - D(G(z)))\n",
    "def train_discriminator(D, opt, fake, high_res, bce):\n",
    "\n",
    "    # Reset gradients to zero\n",
    "    opt.zero_grad()\n",
    "\n",
    "    # Train on real data\n",
    "    pred_real = D(high_res)\n",
    "    loss_real = bce(pred_real, torch.ones_like(pred_real) - 0.1 * torch.rand_like(pred_real))\n",
    "\n",
    "    # Train on fake data\n",
    "    pred_fake = D(fake.detach())\n",
    "    loss_fake = bce(pred_fake, torch.zeros_like(pred_fake))\n",
    "\n",
    "    loss = loss_real + loss_fake\n",
    "\n",
    "    # Backward pass\n",
    "    loss.backward()\n",
    "    # Update weights\n",
    "    opt.step()\n",
    "\n",
    "    return loss\n",
    "\n",
    "### Train Generator: min log(1 - D(G(z))) <-> max log(D(G(z))\n",
    "def train_generator(D, opt, fake, high_res, vgg_loss):\n",
    "\n",
    "    # Reset gradients to zero\n",
    "    opt.zero_grad()\n",
    "\n",
    "    pred_fake = D(fake)\n",
    "\n",
    "    adv_loss = 1e-3 * bce(pred_fake, torch.ones_like(pred_fake))\n",
    "    vgg_loss = 0.006 * vgg_loss(fake, high_res)\n",
    "\n",
    "    loss = adv_loss + vgg_loss\n",
    "\n",
    "    # Backward pass\n",
    "    loss.backward()\n",
    "    # Update weights\n",
    "    opt.step()\n",
    "\n",
    "    return loss"
   ]
  },
  {
   "cell_type": "markdown",
   "metadata": {},
   "source": [
    "### Load data"
   ]
  },
  {
   "cell_type": "code",
   "execution_count": null,
   "metadata": {},
   "outputs": [],
   "source": [
    "loader = DataLoader(dataset, batch_size=config.BATCH_SIZE, shuffle=True, pin_memory=True, num_workers=config.NUM_WORKERS)"
   ]
  },
  {
   "cell_type": "markdown",
   "metadata": {},
   "source": [
    "### Load last checkpoint"
   ]
  },
  {
   "cell_type": "code",
   "execution_count": null,
   "metadata": {},
   "outputs": [],
   "source": [
    "from utils import load_checkpoint\n",
    "\n",
    "if config.LOAD_MODEL:\n",
    "    load_checkpoint(\n",
    "        config.CHECKPOINT_GEN,\n",
    "        gen,\n",
    "        opt_gen,\n",
    "        config.LEARNING_RATE\n",
    "    )\n",
    "    load_checkpoint(\n",
    "        config.CHECKPOINT_DISC, disc, opt_disc, config.LEARNING_RATE\n",
    "    )"
   ]
  },
  {
   "cell_type": "markdown",
   "metadata": {},
   "source": [
    "### Training loop"
   ]
  },
  {
   "cell_type": "code",
   "execution_count": null,
   "metadata": {},
   "outputs": [],
   "source": [
    "from utils import plot_examples, save_checkpoint\n",
    "\n",
    "print(f\"Starting SRGAN training: \\n\")\n",
    "print(f\" Total training samples: {len(dataset)}\\n Mini batch size: {config.BATCH_SIZE}\\n Number of batches: {len(loader)}\\n Learning rate: {config.LEARNING_RATE}\\n\")\n",
    "\n",
    "for epoch in range(config.NUM_EPOCHS):\n",
    "    for idx, (low_res, high_res) in enumerate(loader):\n",
    "\n",
    "        # Send images to device\n",
    "        high_res = high_res.to(config.DEVICE)\n",
    "        low_res = low_res.to(config.DEVICE)\n",
    "\n",
    "        # Generate fake (high_res) image from low_res\n",
    "        fake = gen(low_res)\n",
    "\n",
    "        loss_disc = train_discriminator(disc, opt_disc, fake, high_res, bce)\n",
    "        loss_gen = train_generator(disc, opt_gen, fake, high_res, vgg_loss_fun)\n",
    "\n",
    "        # Print progress every epoch and test the generator on an test image\n",
    "        if idx == 0:\n",
    "            print( \n",
    "                f\"Epoch [{epoch}/{config.NUM_EPOCHS} - \"\n",
    "                f\"Loss D: {loss_disc:.4f}, Loss G: {loss_gen:.4f}]\"\n",
    "                )\n",
    "            plot_examples(\"low_res/\", gen, epoch)\n",
    "\n",
    "    if config.SAVE_MODEL:\n",
    "        save_checkpoint(gen, opt_gen, filename=config.CHECKPOINT_GEN)\n",
    "        save_checkpoint(disc, opt_disc, filename=config.CHECKPOINT_DISC)"
   ]
  }
 ],
 "metadata": {
  "interpreter": {
   "hash": "2018421ac86191517594f147876dbf7cc1c30e03728eafb7def7b7c31a8e41ae"
  },
  "kernelspec": {
   "display_name": "Python 3.8.10 64-bit ('.venv_srgan': venv)",
   "language": "python",
   "name": "python3"
  },
  "language_info": {
   "codemirror_mode": {
    "name": "ipython",
    "version": 3
   },
   "file_extension": ".py",
   "mimetype": "text/x-python",
   "name": "python",
   "nbconvert_exporter": "python",
   "pygments_lexer": "ipython3",
   "version": "3.8.10"
  },
  "orig_nbformat": 4
 },
 "nbformat": 4,
 "nbformat_minor": 2
}
